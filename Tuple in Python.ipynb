{
 "cells": [
  {
   "cell_type": "markdown",
   "id": "90641adf",
   "metadata": {},
   "source": [
    "## Tuple\n",
    "Tuple is one of the built in data type in python. Tuple literals are written within round brackets ( ) where elements are separated by comma. \n",
    "#### Characteristics of a Python Tuple\n",
    "The various characteristics of a tuple are:\n",
    "\n",
    "- Ordered: Tuple maintain the order in which the data is inserted.\n",
    "- immutable: In tuple element(s) are __not__ changeable. This is one of the difference between the list and tuple.\n",
    "- Heterogenous: Tuple can store elements of various data types.\n",
    "- Duplicate Elements: Tuple allow us to store duplicate data."
   ]
  },
  {
   "cell_type": "code",
   "execution_count": 2,
   "id": "1449953d",
   "metadata": {},
   "outputs": [
    {
     "name": "stdout",
     "output_type": "stream",
     "text": [
      "()\n"
     ]
    }
   ],
   "source": [
    "# We can use round bracket(parentheses) without any element to create the empty tuple.\n",
    "t1 = ()\n",
    "print(t1)"
   ]
  },
  {
   "cell_type": "code",
   "execution_count": 4,
   "id": "a732fb9d",
   "metadata": {},
   "outputs": [
    {
     "name": "stdout",
     "output_type": "stream",
     "text": [
      "(1, 2, 3, 4, 5, 6)\n"
     ]
    }
   ],
   "source": [
    "# Enter the elements and separate by comma inside the round bracket to create the tuplr.\n",
    "t=(1,2,3,4,5,6)         #Integer tuple\n",
    "print(t)"
   ]
  },
  {
   "cell_type": "code",
   "execution_count": 5,
   "id": "5ed7184c",
   "metadata": {},
   "outputs": [
    {
     "name": "stdout",
     "output_type": "stream",
     "text": [
      "(1.5, 2.5, 6.2, 8.2, 15.6)\n"
     ]
    }
   ],
   "source": [
    "t=(1.5, 2.5, 6.2, 8.2, 15.6)         #Float tuple\n",
    "print(t)"
   ]
  },
  {
   "cell_type": "code",
   "execution_count": 6,
   "id": "b8817ddc",
   "metadata": {},
   "outputs": [
    {
     "name": "stdout",
     "output_type": "stream",
     "text": [
      "('A', 'B', 'C', 'D')\n"
     ]
    }
   ],
   "source": [
    "t=('A', \"B\", \"C\", 'D')         #String tuple\n",
    "print(t)"
   ]
  },
  {
   "cell_type": "code",
   "execution_count": 7,
   "id": "7dd18adf",
   "metadata": {},
   "outputs": [
    {
     "name": "stdout",
     "output_type": "stream",
     "text": [
      "(10, 35, 45.62, 78.12, 'Hello', 'Abhi')\n"
     ]
    }
   ],
   "source": [
    "t=(10, 35, 45.62, 78.12, \"Hello\", 'Abhi')         #Heteregeneous datatype tuple\n",
    "print(t)"
   ]
  },
  {
   "cell_type": "code",
   "execution_count": 8,
   "id": "ecfd62a2",
   "metadata": {},
   "outputs": [
    {
     "name": "stdout",
     "output_type": "stream",
     "text": [
      "(10, 35, 20, 65, 35, 10, 10)\n"
     ]
    }
   ],
   "source": [
    "t=(10, 35, 20, 65, 35, 10, 10)         #Duplicate items in the tuple\n",
    "print(t)"
   ]
  },
  {
   "cell_type": "code",
   "execution_count": 9,
   "id": "163a3d07",
   "metadata": {},
   "outputs": [
    {
     "name": "stdout",
     "output_type": "stream",
     "text": [
      "(10, 35, 45.62, 78.12, ('Hello', 'Abhi'), 12)\n"
     ]
    }
   ],
   "source": [
    "t=(10, 35, 45.62, 78.12, (\"Hello\", 'Abhi'), 12)         #Nested tuple\n",
    "print(t)"
   ]
  },
  {
   "cell_type": "code",
   "execution_count": 10,
   "id": "5852bd9e",
   "metadata": {},
   "outputs": [
    {
     "name": "stdout",
     "output_type": "stream",
     "text": [
      "(10, 35, 45.62, 78.12, ['Hello', 'Abhi'], 12)\n"
     ]
    }
   ],
   "source": [
    "t=(10, 35, 45.62, 78.12, [\"Hello\", 'Abhi'], 12)         #Nested list in tuple\n",
    "print(t)"
   ]
  },
  {
   "cell_type": "code",
   "execution_count": 19,
   "id": "3d55e6d5",
   "metadata": {},
   "outputs": [
    {
     "name": "stdout",
     "output_type": "stream",
     "text": [
      "The value of t1 is (10, 20, 30).\n"
     ]
    }
   ],
   "source": [
    "t1=10, 20, 30\n",
    "print(f'The value of t1 is {t1}.')"
   ]
  },
  {
   "cell_type": "code",
   "execution_count": 20,
   "id": "065191be",
   "metadata": {},
   "outputs": [
    {
     "name": "stdout",
     "output_type": "stream",
     "text": [
      "The value of x is 10, the value of y is 20 and the value of z is 30.\n"
     ]
    }
   ],
   "source": [
    "x,y,z=t1\n",
    "print(f\"The value of x is {x}, the value of y is {y} and the value of z is {z}.\")"
   ]
  },
  {
   "cell_type": "code",
   "execution_count": 1,
   "id": "b1b96419",
   "metadata": {},
   "outputs": [
    {
     "name": "stdout",
     "output_type": "stream",
     "text": [
      "(1, 2, 3, 4, 5)\n"
     ]
    }
   ],
   "source": [
    "t=tuple((1,2,3,4,5))    # The tuple() function creates a tuple object.\n",
    "print(t)"
   ]
  },
  {
   "cell_type": "code",
   "execution_count": 22,
   "id": "b53353c8",
   "metadata": {},
   "outputs": [
    {
     "name": "stdout",
     "output_type": "stream",
     "text": [
      "Length of tuple 3\n",
      "Sum of tuple 60\n",
      "Max value in tuple 30\n",
      "Min value in tuple 10\n"
     ]
    }
   ],
   "source": [
    "print(\"Length of tuple\", len(t1))   # len() function\n",
    "print(\"Sum of tuple\", sum(t1))      # sum() function\n",
    "print(\"Max value in tuple\", max(t1))   # max() function\n",
    "print(\"Min value in tuple\", min(t1))   # min() function"
   ]
  },
  {
   "cell_type": "markdown",
   "id": "4b79cd6e",
   "metadata": {},
   "source": [
    "__Note__: Since tuple is immutable which means we cannot modify the tuple like list that is we can not either add elements in the tuple or cannot remove elements from the tuple.\n",
    "\n",
    "We can fetch the elements from the tuple in the same way as we do in List that is we can use indexing and slicing here in the tuple. To know about indexing and slicing click on this link 👉. \n",
    "https://github.com/Abhishekk-Git/List-in-Python/blob/main/List-Python.ipynb"
   ]
  },
  {
   "cell_type": "markdown",
   "id": "5ddea0f3",
   "metadata": {},
   "source": [
    "Tuple have only two methods.\n",
    "\n",
    "- index()\n",
    "- count()"
   ]
  },
  {
   "cell_type": "markdown",
   "id": "f8ea07c8",
   "metadata": {},
   "source": [
    "###  index() method\n",
    "The index() method gives the index of a particular element from the tuple.\n",
    "\n",
    "__Syntax__: Tuple.index(element, start, end)\n",
    "\n",
    "The index() method can take a maximum of three arguments:\n",
    "\n",
    "- element - the element to be searched.\n",
    "- start (optional) - start searching from this index\n",
    "- end (optional) - search the element up to this index\n",
    "\n",
    "The index() method returns the index of the given element in the tuple.\n",
    "If the element is not found, a ValueError exception is raised."
   ]
  },
  {
   "cell_type": "code",
   "execution_count": 11,
   "id": "44abd132",
   "metadata": {},
   "outputs": [
    {
     "name": "stdout",
     "output_type": "stream",
     "text": [
      "2\n"
     ]
    }
   ],
   "source": [
    "t=[\"Python\", \"Java\", \"HTML\", \"JavaScript\"]\n",
    "print(t.index(\"HTML\"))     #---> Here, the index of element \"HTML\" is returned."
   ]
  },
  {
   "cell_type": "code",
   "execution_count": 12,
   "id": "b00678b6",
   "metadata": {},
   "outputs": [
    {
     "name": "stdout",
     "output_type": "stream",
     "text": [
      "1\n"
     ]
    }
   ],
   "source": [
    "t=[\"Python\", \"Java\", \"HTML\", \"JavaScript\"]\n",
    "print(t.index(\"Java\"))     #---> Here, the index of element \"HTML\" is returned."
   ]
  },
  {
   "cell_type": "markdown",
   "id": "7bb708bd",
   "metadata": {},
   "source": [
    "__Note__:  The index() method only returns the first occurrence of the matching element."
   ]
  },
  {
   "cell_type": "code",
   "execution_count": 13,
   "id": "c974ca27",
   "metadata": {},
   "outputs": [
    {
     "data": {
      "text/plain": [
       "3"
      ]
     },
     "execution_count": 13,
     "metadata": {},
     "output_type": "execute_result"
    }
   ],
   "source": [
    "l = [ 2, 5, 6, 5, 7, 5, 8, 9]\n",
    "l.index(5, 3, 8)\n",
    "# Here 5 is the element that we need to look for, 3 is the start index and 8 is the end index. It means this index method search\n",
    "# 5 within the range of index 3 to 8."
   ]
  },
  {
   "cell_type": "markdown",
   "id": "da14bb65",
   "metadata": {},
   "source": [
    "### count() method\n",
    "The count() method returns the number of times the specified element appears in the tuple.\n",
    "\n",
    "__Syntax__: Tuple.count(element)\n",
    "\n",
    "The count() method can take one argument and return the number of times that element appear in the tuple."
   ]
  },
  {
   "cell_type": "code",
   "execution_count": 14,
   "id": "ff70a77b",
   "metadata": {},
   "outputs": [
    {
     "data": {
      "text/plain": [
       "3"
      ]
     },
     "execution_count": 14,
     "metadata": {},
     "output_type": "execute_result"
    }
   ],
   "source": [
    "t = (2, 5, 6, 5, 7, 5, 8, 9)\n",
    "t.count(5)\n",
    "# Here 5 is the element that we need to look for. 5 comes three times in the tuple."
   ]
  },
  {
   "cell_type": "markdown",
   "id": "b02d8133",
   "metadata": {},
   "source": [
    "## Advantages of Tuple over List in Python\n",
    "Since tuples are quite similar to lists, both of them are used in similar situations.\n",
    "\n",
    "- We generally use tuples for heterogeneous (different) data types and lists for homogeneous (similar) data types.\n",
    "- Since tuples are immutable, iterating through a tuple is faster than with a list. So there is a slight performance boost.\n",
    "- Tuples that contain immutable elements can be used as a key for a dictionary. With lists, this is not possible.\n",
    "- If you have data that doesn't change, implementing it as tuple will guarantee that it remains write-protected."
   ]
  },
  {
   "cell_type": "markdown",
   "id": "03856956",
   "metadata": {},
   "source": [
    "Click this link to learn more: 👉 https://github.com/Abhishekk-Git"
   ]
  }
 ],
 "metadata": {
  "kernelspec": {
   "display_name": "Python 3 (ipykernel)",
   "language": "python",
   "name": "python3"
  },
  "language_info": {
   "codemirror_mode": {
    "name": "ipython",
    "version": 3
   },
   "file_extension": ".py",
   "mimetype": "text/x-python",
   "name": "python",
   "nbconvert_exporter": "python",
   "pygments_lexer": "ipython3",
   "version": "3.10.9"
  }
 },
 "nbformat": 4,
 "nbformat_minor": 5
}
